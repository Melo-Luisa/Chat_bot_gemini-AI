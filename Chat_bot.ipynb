{
  "nbformat": 4,
  "nbformat_minor": 0,
  "metadata": {
    "colab": {
      "provenance": [],
      "authorship_tag": "ABX9TyNP/nSHL2OxAxGIMd/+/wxw",
      "include_colab_link": true
    },
    "kernelspec": {
      "name": "python3",
      "display_name": "Python 3"
    },
    "language_info": {
      "name": "python"
    }
  },
  "cells": [
    {
      "cell_type": "markdown",
      "metadata": {
        "id": "view-in-github",
        "colab_type": "text"
      },
      "source": [
        "<a href=\"https://colab.research.google.com/github/Melo-Luisa/Chat_bot_gemini-AI/blob/main/Chat_bot.ipynb\" target=\"_parent\"><img src=\"https://colab.research.google.com/assets/colab-badge.svg\" alt=\"Open In Colab\"/></a>"
      ]
    },
    {
      "cell_type": "code",
      "execution_count": 1,
      "metadata": {
        "id": "D5MMSzqTQAZg"
      },
      "outputs": [],
      "source": [
        "!pip install -q -U google-generativeai"
      ]
    },
    {
      "cell_type": "markdown",
      "source": [
        "Metodo google.colab para salvar a chave do Google"
      ],
      "metadata": {
        "id": "LzIXJKuOzx81"
      }
    },
    {
      "cell_type": "code",
      "source": [
        "import google.generativeai as genai\n",
        "from google.colab import userdata\n",
        "api_key = userdata.get('SECRET_KEY')\n",
        "\n",
        "genai.configure(api_key=api_key)"
      ],
      "metadata": {
        "id": "76Pt5191cZ-E"
      },
      "execution_count": 6,
      "outputs": []
    },
    {
      "cell_type": "code",
      "source": [
        "for m in genai.list_models():\n",
        "  if 'generateContent' in m.supported_generation_methods:\n",
        "    print(m.name)"
      ],
      "metadata": {
        "colab": {
          "base_uri": "https://localhost:8080/",
          "height": 139
        },
        "id": "KaHF-L-usyXd",
        "outputId": "89534f8b-88ea-43c0-855e-38a112bef9fc"
      },
      "execution_count": 15,
      "outputs": [
        {
          "output_type": "stream",
          "name": "stdout",
          "text": [
            "models/gemini-1.0-pro\n",
            "models/gemini-1.0-pro-001\n",
            "models/gemini-1.0-pro-latest\n",
            "models/gemini-1.0-pro-vision-latest\n",
            "models/gemini-1.5-pro-latest\n",
            "models/gemini-pro\n",
            "models/gemini-pro-vision\n"
          ]
        }
      ]
    },
    {
      "cell_type": "code",
      "source": [
        "config_gerais = {\n",
        "    \"candidate_count\" :1,\n",
        "    \"temperature\": 0.75,\n",
        "}"
      ],
      "metadata": {
        "id": "3sZ3x-7UtiXB"
      },
      "execution_count": 12,
      "outputs": []
    },
    {
      "cell_type": "code",
      "source": [
        "config_segu = {\n",
        "    \"HARASSMENT\": \"BLOCK_NONE\",\n",
        "    \"HATE\": \"BLOCK_NONE\",\n",
        "    \"SEXUAL\": \"BLOCK_NONE\",\n",
        "    \"DANGEROUS\": \"BLOCK_NONE\"\n",
        "\n",
        "}"
      ],
      "metadata": {
        "id": "zHRGPF0at0RF"
      },
      "execution_count": 18,
      "outputs": []
    },
    {
      "cell_type": "code",
      "source": [
        "model = genai.GenerativeModel(model_name=\"gemini-1.0-pro\",\n",
        "                              generation_config=config_gerais,\n",
        "                              safety_settings=config_segu)"
      ],
      "metadata": {
        "id": "579VzggGuPxJ"
      },
      "execution_count": 19,
      "outputs": []
    },
    {
      "cell_type": "code",
      "source": [
        "response = model.generate_content(\"Vamos aprender sobre macarrão.\")\n",
        "print(response.text)"
      ],
      "metadata": {
        "colab": {
          "base_uri": "https://localhost:8080/",
          "height": 766
        },
        "id": "ybkddBoDv0tY",
        "outputId": "e129f6dc-9480-4c19-976f-5d96e9421e34"
      },
      "execution_count": 20,
      "outputs": [
        {
          "output_type": "stream",
          "name": "stdout",
          "text": [
            "**O Mundo do Macarrão**\n",
            "\n",
            "**Introdução:**\n",
            "O macarrão é um alimento básico apreciado em todo o mundo, com inúmeras variedades, formas e sabores. É um ingrediente versátil que pode ser cozido de várias maneiras para criar pratos deliciosos e satisfatórios.\n",
            "\n",
            "**Tipos de Macarrão:**\n",
            "Existem centenas de tipos diferentes de macarrão, cada um com sua forma, textura e finalidade únicas. Alguns tipos comuns incluem:\n",
            "\n",
            "* **Macarrão Longo:** Espaguete, fettuccine, linguine\n",
            "* **Macarrão Curto:** Penne, fusilli, rigatoni\n",
            "* **Macarrão Recheado:** Ravioli, tortellini, cannelloni\n",
            "* **Macarrão para Sopa:** Acini di pepe, orzo, conchiglie\n",
            "\n",
            "**Ingredientes do Macarrão:**\n",
            "O macarrão é tradicionalmente feito de sêmola de trigo duro, água e sal. No entanto, outras farinhas, como farinha de arroz integral, farinha de milho ou farinha de quinoa, podem ser usadas para fazer macarrão sem glúten ou com baixo teor de carboidratos.\n",
            "\n",
            "**Processos de Fabricação:**\n",
            "Existem dois métodos principais de fabricação de macarrão:\n",
            "\n",
            "* **Extrusão:** A massa é empurrada através de moldes para criar as diferentes formas.\n",
            "* **Laminagem:** A massa é enrolada e cortada em tiras.\n",
            "\n",
            "**Cozimento do Macarrão:**\n",
            "O cozimento do macarrão é uma arte que requer atenção aos detalhes. Aqui estão algumas dicas:\n",
            "\n",
            "* Use bastante água salgada.\n",
            "* Cozinhe o macarrão al dente, ou seja, cozido, mas ainda com uma leve resistência ao morder.\n",
            "* Escorra bem o macarrão e misture com o molho imediatamente.\n",
            "\n",
            "**Molhos para Macarrão:**\n",
            "Existem inúmeras opções de molhos para macarrão, desde simples até complexos. Alguns molhos populares incluem:\n",
            "\n",
            "* **Molho de Tomate:** Clássico e versátil, feito com tomates, cebola, alho e ervas.\n",
            "* **Molho Alfredo:** Cremoso e rico, feito com manteiga, creme de leite e queijo parmesão.\n",
            "* **Molho Pesto:** Refrescante e aromático, feito com manjericão, pinhões, azeite e queijo parmesão.\n",
            "* **Molho Carbonara:** Rico e saboroso, feito com ovos, bacon e queijo pecorino.\n",
            "\n",
            "**Benefícios do Macarrão:**\n",
            "O macarrão pode ser uma boa fonte de carboidratos complexos, que fornecem energia duradoura. Também pode ser uma boa fonte de proteína, especialmente se for feito com farinha de trigo integral. Além disso, o macarrão pode conter vitaminas, minerais e antioxidantes, dependendo dos ingredientes usados.\n",
            "\n",
            "**Conclusão:**\n",
            "O macarrão é um alimento básico versátil e delicioso que pode ser apreciado de várias maneiras. Com sua ampla variedade de tipos, molhos e benefícios para a saúde, não é de admirar que o macarrão continue sendo um favorito em todo o mundo.\n"
          ]
        }
      ]
    },
    {
      "cell_type": "markdown",
      "source": [
        "Aqui irá guardar qual o historico de perguntas"
      ],
      "metadata": {
        "id": "7D25S51uwO1n"
      }
    },
    {
      "cell_type": "code",
      "source": [
        "chat = model.start_chat(history=[])"
      ],
      "metadata": {
        "id": "z5uQ9X2nwGPu"
      },
      "execution_count": 24,
      "outputs": []
    },
    {
      "cell_type": "code",
      "source": [
        "prompt = input(\"Esperando prompt: \")\n",
        "\n",
        "while prompt != \"fim\":\n",
        "  response = chat.send_message(prompt)\n",
        "  print(\"Resposta: \", response.text, \"\\n\")\n",
        "  prompt = input(\"Esperando prompt: \")\n",
        "print(\"Prazer em atender.\")"
      ],
      "metadata": {
        "colab": {
          "base_uri": "https://localhost:8080/",
          "height": 104
        },
        "id": "1I_idFlCwXNs",
        "outputId": "68c1e77f-635a-491a-ccaf-0a9e50171abc"
      },
      "execution_count": 26,
      "outputs": [
        {
          "output_type": "stream",
          "name": "stdout",
          "text": [
            "Esperando prompt: prato típico da Rússia\n",
            "Resposta:  Blini \n",
            "\n",
            "Esperando prompt: fim\n",
            "Prazer em atender.\n"
          ]
        }
      ]
    }
  ]
}